{
 "cells": [
  {
   "cell_type": "code",
   "execution_count": 1,
   "metadata": {},
   "outputs": [],
   "source": [
    "import pandas as pd\n",
    "import numpy as np\n",
    "import re\n",
    "import unicodedata"
   ]
  },
  {
   "cell_type": "markdown",
   "metadata": {},
   "source": [
    "## Before Cleaning"
   ]
  },
  {
   "cell_type": "code",
   "execution_count": 2,
   "metadata": {},
   "outputs": [],
   "source": [
    "df = pd.read_csv('global-shark-attacks/attacks.csv', engine='python')"
   ]
  },
  {
   "cell_type": "code",
   "execution_count": 3,
   "metadata": {},
   "outputs": [
    {
     "data": {
      "text/plain": [
       "Case Number                object\n",
       "Date                       object\n",
       "Year                      float64\n",
       "Type                       object\n",
       "Country                    object\n",
       "Area                       object\n",
       "Location                   object\n",
       "Activity                   object\n",
       "Name                       object\n",
       "Sex                        object\n",
       "Age                        object\n",
       "Injury                     object\n",
       "Fatal (Y/N)                object\n",
       "Time                       object\n",
       "Species                    object\n",
       "Investigator or Source     object\n",
       "pdf                        object\n",
       "href formula               object\n",
       "href                       object\n",
       "Case Number.1              object\n",
       "Case Number.2              object\n",
       "original order            float64\n",
       "Unnamed: 22                object\n",
       "Unnamed: 23                object\n",
       "dtype: object"
      ]
     },
     "execution_count": 3,
     "metadata": {},
     "output_type": "execute_result"
    }
   ],
   "source": [
    "df.dtypes"
   ]
  },
  {
   "cell_type": "code",
   "execution_count": 14,
   "metadata": {
    "scrolled": true
   },
   "outputs": [
    {
     "data": {
      "text/plain": [
       "Unprovoked      4595\n",
       "Provoked         574\n",
       "Invalid          547\n",
       "Sea Disaster     239\n",
       "Boating          203\n",
       "Boat             137\n",
       "Questionable       2\n",
       "Boatomg            1\n",
       "Name: Type, dtype: int64"
      ]
     },
     "execution_count": 14,
     "metadata": {},
     "output_type": "execute_result"
    }
   ],
   "source": [
    "df.Type.value_counts()"
   ]
  },
  {
   "cell_type": "code",
   "execution_count": 15,
   "metadata": {},
   "outputs": [
    {
     "data": {
      "text/plain": [
       "1957                    11\n",
       "1942                     9\n",
       "1956                     8\n",
       "1958                     7\n",
       "1941                     7\n",
       "1950                     7\n",
       "1949                     6\n",
       "No date                  6\n",
       "1954                     5\n",
       "1940                     5\n",
       "1970s                    5\n",
       "28-Jul-1995              5\n",
       "Aug-1956                 5\n",
       "Oct-1960                 5\n",
       "05-Oct-2003              5\n",
       "No date, Before 1963     5\n",
       "1955                     5\n",
       "1959                     5\n",
       "12-Apr-2001              5\n",
       "27-Dec-2008              4\n",
       "28-Dec-2014              4\n",
       "09-Jan-2010              4\n",
       "15-Apr-2018              4\n",
       "29-Apr-2017              4\n",
       "27-Jul-1952              4\n",
       "1952                     4\n",
       "23-Jan-1970              4\n",
       "1904                     4\n",
       "Before 1906              4\n",
       "09-Jul-1994              4\n",
       "                        ..\n",
       "Summer 1965              1\n",
       "25-Jul-1936              1\n",
       "21-Aug-1968              1\n",
       "31-Aug-2011              1\n",
       "05-Dec-2013              1\n",
       "1748                     1\n",
       "05-Apr-1959              1\n",
       "09-Jul-1987              1\n",
       "12-30-1980               1\n",
       "01-Nov-2003              1\n",
       "16-Jan-1996              1\n",
       "29-Jun-1960              1\n",
       "17-Aug-1975              1\n",
       "Aug-2006                 1\n",
       "30-Jan-2015              1\n",
       "07-Nov-1988              1\n",
       "03-Dec-1882              1\n",
       "15-Aug-1899              1\n",
       "Reported 10-Jul-1963     1\n",
       "22-Aug-1994              1\n",
       "12-Feb-1847              1\n",
       "06-Oct-1954              1\n",
       "14-Jul-1996              1\n",
       "Reported 1929            1\n",
       "17-Jun-2015              1\n",
       "14-Mar-2004              1\n",
       "19-Apr-1946              1\n",
       "08-Jun-1938              1\n",
       "06-Nov-1999              1\n",
       "06-Dec-1964              1\n",
       "Name: Date, Length: 5433, dtype: int64"
      ]
     },
     "execution_count": 15,
     "metadata": {},
     "output_type": "execute_result"
    }
   ],
   "source": [
    "df.Date.value_counts()"
   ]
  },
  {
   "cell_type": "code",
   "execution_count": 17,
   "metadata": {},
   "outputs": [
    {
     "data": {
      "text/plain": [
       "Index(['Case Number', 'Date', 'Year', 'Type', 'Country', 'Area', 'Location',\n",
       "       'Activity', 'Name', 'Sex ', 'Age', 'Injury', 'Fatal (Y/N)', 'Time',\n",
       "       'Species ', 'Investigator or Source', 'pdf', 'href formula', 'href',\n",
       "       'Case Number.1', 'Case Number.2', 'original order', 'Unnamed: 22',\n",
       "       'Unnamed: 23'],\n",
       "      dtype='object')"
      ]
     },
     "execution_count": 17,
     "metadata": {},
     "output_type": "execute_result"
    }
   ],
   "source": [
    "df.columns"
   ]
  },
  {
   "cell_type": "code",
   "execution_count": 18,
   "metadata": {},
   "outputs": [
    {
     "data": {
      "text/plain": [
       "M      5094\n",
       "F       637\n",
       "M         2\n",
       "N         2\n",
       ".         1\n",
       "lli       1\n",
       "Name: Sex , dtype: int64"
      ]
     },
     "execution_count": 18,
     "metadata": {},
     "output_type": "execute_result"
    }
   ],
   "source": [
    "df['Sex '].value_counts()"
   ]
  },
  {
   "cell_type": "code",
   "execution_count": 37,
   "metadata": {},
   "outputs": [
    {
     "data": {
      "text/plain": [
       "USA                               2229\n",
       "AUSTRALIA                         1338\n",
       "SOUTH AFRICA                       579\n",
       "PAPUA NEW GUINEA                   134\n",
       "NEW ZEALAND                        128\n",
       "BRAZIL                             112\n",
       "BAHAMAS                            109\n",
       "MEXICO                              89\n",
       "ITALY                               71\n",
       "FIJI                                62\n",
       "PHILIPPINES                         61\n",
       "REUNION                             60\n",
       "NEW CALEDONIA                       53\n",
       "CUBA                                46\n",
       "MOZAMBIQUE                          45\n",
       "SPAIN                               44\n",
       "INDIA                               40\n",
       "EGYPT                               38\n",
       "CROATIA                             34\n",
       "JAPAN                               34\n",
       "PANAMA                              32\n",
       "SOLOMON ISLANDS                     30\n",
       "IRAN                                29\n",
       "JAMAICA                             27\n",
       "FRENCH POLYNESIA                    25\n",
       "GREECE                              25\n",
       "HONG KONG                           24\n",
       "ENGLAND                             23\n",
       "INDONESIA                           23\n",
       "PACIFIC OCEAN                       17\n",
       "                                  ... \n",
       "TASMAN SEA                           1\n",
       "ROATAN                               1\n",
       "GREENLAND                            1\n",
       "MALDIVES                             1\n",
       "EGYPT / ISRAEL                       1\n",
       "ALGERIA                              1\n",
       "SWEDEN                               1\n",
       "KUWAIT                               1\n",
       "TUVALU                               1\n",
       "ARGENTINA                            1\n",
       "IRAN / IRAQ                          1\n",
       "RED SEA                              1\n",
       "CURACAO                              1\n",
       "NORTH ATLANTIC OCEAN                 1\n",
       "SLOVENIA                             1\n",
       "GABON                                1\n",
       "ASIA?                                1\n",
       "DJIBOUTI                             1\n",
       "RED SEA?                             1\n",
       "GRAND CAYMAN                         1\n",
       "COOK ISLANDS                         1\n",
       "FEDERATED STATES OF MICRONESIA       1\n",
       "INDIAN OCEAN?                        1\n",
       "JAVA                                 1\n",
       "MONACO                               1\n",
       " PHILIPPINES                         1\n",
       "AFRICA                               1\n",
       "ITALY / CROATIA                      1\n",
       "Sierra Leone                         1\n",
       "BAY OF BENGAL                        1\n",
       "Name: Country, Length: 212, dtype: int64"
      ]
     },
     "execution_count": 37,
     "metadata": {},
     "output_type": "execute_result"
    }
   ],
   "source": [
    "df.Country.value_counts()"
   ]
  },
  {
   "cell_type": "code",
   "execution_count": 41,
   "metadata": {},
   "outputs": [
    {
     "data": {
      "text/plain": [
       "FATAL                                              802\n",
       "Survived                                            97\n",
       "Foot bitten                                         87\n",
       "No injury                                           82\n",
       "Leg bitten                                          72\n",
       "Left foot bitten                                    50\n",
       "No details                                          43\n",
       "Right foot bitten                                   39\n",
       "No injury, board bitten                             31\n",
       "Hand bitten                                         29\n",
       "Thigh bitten                                        27\n",
       "FATAL, body not recovered                           24\n",
       "Minor injury                                        22\n",
       "Calf bitten                                         22\n",
       "Foot lacerated                                      21\n",
       "Right leg bitten                                    20\n",
       "Arm bitten                                          20\n",
       "Lacerations to foot                                 20\n",
       "Lacerations to right foot                           18\n",
       "Lacerations to left foot                            18\n",
       "Ankle bitten                                        17\n",
       "Right calf bitten                                   16\n",
       "Minor injuries                                      14\n",
       "No injury to occupants                              14\n",
       "Heel bitten                                         14\n",
       "Left arm bitten                                     13\n",
       "Foot severed                                        13\n",
       "No injury, surfboard bitten                         13\n",
       "Left leg bitten                                     13\n",
       "Leg injured                                         13\n",
       "                                                  ... \n",
       "Minor injury to foot                                 6\n",
       "No injury, board damaged                             6\n",
       "Hand severed                                         6\n",
       "Left thigh lacerated                                 6\n",
       "Hand injured                                         6\n",
       "Right hand lacerated                                 6\n",
       "Torso bitten                                         6\n",
       "Right calf lacerated                                 6\n",
       "Lacerations                                          6\n",
       "Swim fin bitten                                      6\n",
       "Lacerations to left forearm                          6\n",
       "Shoulder bitten                                      5\n",
       "Right hand severed                                   5\n",
       "Right arm bitten                                     5\n",
       "Foot & ankle lacerated                               5\n",
       "Laceration to left thigh                             5\n",
       "PROVOKED INCIDENT                                    5\n",
       "Shark involvement prior to death unconfirmed         5\n",
       "Laceration to calf                                   5\n",
       "Foot injured                                         5\n",
       "Right hand bitten                                    5\n",
       "Right foot & ankle lacerated                         5\n",
       "Lower leg bitten                                     5\n",
       "Laceration to thigh                                  5\n",
       "Puncture wounds to right foot                        5\n",
       "Finger bitten by hooked shark PROVOKED INCIDENT      5\n",
       "Calf lacerated                                       5\n",
       "Minor injury to left foot                            5\n",
       "Buttocks bitten                                      5\n",
       "Minor injury to leg                                  5\n",
       "Name: Injury, Length: 100, dtype: int64"
      ]
     },
     "execution_count": 41,
     "metadata": {},
     "output_type": "execute_result"
    }
   ],
   "source": [
    "df.Injury.value_counts().head(100)"
   ]
  },
  {
   "cell_type": "code",
   "execution_count": 22,
   "metadata": {},
   "outputs": [
    {
     "data": {
      "text/plain": [
       "N          4293\n",
       "Y          1388\n",
       "UNKNOWN      71\n",
       " N            7\n",
       "2017          1\n",
       "N             1\n",
       "M             1\n",
       "y             1\n",
       "Name: Fatal (Y/N), dtype: int64"
      ]
     },
     "execution_count": 22,
     "metadata": {},
     "output_type": "execute_result"
    }
   ],
   "source": [
    "df['Fatal (Y/N)'].value_counts()"
   ]
  },
  {
   "cell_type": "code",
   "execution_count": 24,
   "metadata": {},
   "outputs": [
    {
     "data": {
      "text/plain": [
       "White shark                                                   163\n",
       "Shark involvement prior to death was not confirmed            105\n",
       "Invalid                                                       102\n",
       "Shark involvement not confirmed                                88\n",
       "Tiger shark                                                    73\n",
       "Shark involvement prior to death unconfirmed                   68\n",
       "Bull shark                                                     52\n",
       "4' shark                                                       40\n",
       "6' shark                                                       40\n",
       "1.8 m [6'] shark                                               35\n",
       "Questionable incident                                          35\n",
       "Questionable                                                   34\n",
       "1.5 m [5'] shark                                               32\n",
       "1.2 m [4'] shark                                               27\n",
       "3' shark                                                       26\n",
       "5' shark                                                       26\n",
       "2 m shark                                                      25\n",
       "4' to 5' shark                                                 24\n",
       "3 m [10'] shark                                                22\n",
       "Wobbegong shark                                                21\n",
       "No shark involvement                                           21\n",
       "3' to 4' shark                                                 18\n",
       "3 m shark                                                      17\n",
       "2.4 m [8'] shark                                               16\n",
       "12' shark                                                      15\n",
       "Blacktip shark                                                 15\n",
       "3.7 m [12'] shark                                              15\n",
       "Blue shark                                                     14\n",
       "1.2 m to 1.5 m [4' to 5'] shark                                14\n",
       "Shark involvement prior to death not confirmed                 13\n",
       "                                                             ... \n",
       "Whitetip reef shark                                             1\n",
       "Possibly a blue shark                                           1\n",
       "234-lb shark                                                    1\n",
       "Blue shark, 8' [2.4 m], 500-lb                                  1\n",
       "2 m [6.75'] sevengill  shark                                    1\n",
       "2.7 m [9'] shark later captured by Mitchell-Hedges              1\n",
       "White shark, 4.6 m                                              1\n",
       "Tiger shark, 3 m to 3.7 m [10' to 12']                          1\n",
       "Dusky shark, 2m                                                 1\n",
       "White shark, 3 m to 4 m [10' to 13']                            1\n",
       " Tiger shark, 3'                                                1\n",
       "Hammerhead shark, 9'                                            1\n",
       "White shark, 4.4 m [14.5'] .                                    1\n",
       "Bull shark, 1.65 m [5'5\"] was speared & killed                  1\n",
       "Tiger shark, 13'                                                1\n",
       "Soupfin shark                                                   1\n",
       "Caribbean reef shark, 4.5'                                      1\n",
       "Said to involve a 4.9 m [16'] \"red shark\"                       1\n",
       "Bull shark, 1m                                                  1\n",
       "Tiger shark, 2.5 m [8.25']                                      1\n",
       "Bull shark, 2.4 m [8']                                          1\n",
       "Nurse shark, 60 cm to 90 cm [2' to 3']                          1\n",
       "White shark, 11' to 13'                                         1\n",
       "1.5 m copper shark                                              1\n",
       ">2 m shark                                                      1\n",
       "1.2 m to 1.5 m [4' to 5']   shark                               1\n",
       "300- to 400-lb Zambesi shark                                    1\n",
       "small blue shark                                                1\n",
       "Two sharks seen in vicinity: 2.4 m & 4.25 m  [8' & 14'] TL      1\n",
       "4.3 m shark                                                     1\n",
       "Name: Species , Length: 1549, dtype: int64"
      ]
     },
     "execution_count": 24,
     "metadata": {},
     "output_type": "execute_result"
    }
   ],
   "source": [
    "df['Species '].value_counts()"
   ]
  },
  {
   "cell_type": "code",
   "execution_count": 25,
   "metadata": {},
   "outputs": [
    {
     "data": {
      "text/plain": [
       "17                         154\n",
       "18                         150\n",
       "19                         142\n",
       "20                         141\n",
       "15                         139\n",
       "16                         138\n",
       "21                         119\n",
       "22                         117\n",
       "25                         108\n",
       "24                         106\n",
       "14                         101\n",
       "13                          94\n",
       "26                          83\n",
       "28                          80\n",
       "23                          80\n",
       "27                          78\n",
       "29                          78\n",
       "30                          76\n",
       "12                          73\n",
       "32                          69\n",
       "35                          69\n",
       "10                          56\n",
       "40                          56\n",
       "31                          52\n",
       "34                          50\n",
       "38                          48\n",
       "33                          44\n",
       "43                          43\n",
       "36                          43\n",
       "37                          42\n",
       "                          ... \n",
       "37, 67, 35, 27,  ? & 27      1\n",
       "?    &   14                  1\n",
       "7      &    31               1\n",
       " 28                          1\n",
       "21 or 26                     1\n",
       "18 or 20                     1\n",
       "Both 11                      1\n",
       "33 & 26                      1\n",
       "46 & 34                      1\n",
       "X                            1\n",
       "12 or 13                     1\n",
       "34 & 19                      1\n",
       "25 or 28                     1\n",
       "9 or 10                      1\n",
       "                             1\n",
       "36 & 23                      1\n",
       "                             1\n",
       "28 & 26                      1\n",
       "9 months                     1\n",
       "21, 34,24 & 35               1\n",
       " 43                          1\n",
       "23 & 20                      1\n",
       "13 or 14                     1\n",
       "21 & ?                       1\n",
       "86                           1\n",
       "30 & 32                      1\n",
       "23 & 26                      1\n",
       "33 or 37                     1\n",
       "\"young\"                      1\n",
       "50 & 30                      1\n",
       "Name: Age, Length: 157, dtype: int64"
      ]
     },
     "execution_count": 25,
     "metadata": {},
     "output_type": "execute_result"
    }
   ],
   "source": [
    "df.Age.value_counts()"
   ]
  },
  {
   "cell_type": "markdown",
   "metadata": {},
   "source": [
    "## After Cleaning"
   ]
  },
  {
   "cell_type": "code",
   "execution_count": 9,
   "metadata": {},
   "outputs": [],
   "source": [
    "from exe import *"
   ]
  },
  {
   "cell_type": "code",
   "execution_count": 10,
   "metadata": {},
   "outputs": [],
   "source": [
    "df_clean = exe('global-shark-attacks/attacks.csv')"
   ]
  },
  {
   "cell_type": "code",
   "execution_count": 11,
   "metadata": {},
   "outputs": [
    {
     "data": {
      "text/plain": [
       "Case Number                object\n",
       "Date                       object\n",
       "Year                       object\n",
       "Type                       object\n",
       "Country                    object\n",
       "Area                       object\n",
       "Location                   object\n",
       "Activity                   object\n",
       "Name                       object\n",
       "Sex                        object\n",
       "Age                         int64\n",
       "Injury                     object\n",
       "Fatal (Y/N)                object\n",
       "Time                       object\n",
       "Species                    object\n",
       "Investigator or Source     object\n",
       "pdf                        object\n",
       "href formula               object\n",
       "href                       object\n",
       "original order            float64\n",
       "dtype: object"
      ]
     },
     "execution_count": 11,
     "metadata": {},
     "output_type": "execute_result"
    }
   ],
   "source": [
    "df_clean.dtypes"
   ]
  },
  {
   "cell_type": "code",
   "execution_count": 26,
   "metadata": {
    "scrolled": true
   },
   "outputs": [
    {
     "data": {
      "text/plain": [
       "Unprovoked      4597\n",
       "Provoked         574\n",
       "Invalid          549\n",
       "Boating          343\n",
       "Sea Disaster     239\n",
       "Name: Type, dtype: int64"
      ]
     },
     "execution_count": 26,
     "metadata": {},
     "output_type": "execute_result"
    }
   ],
   "source": [
    "df_clean.Type.value_counts()"
   ]
  },
  {
   "cell_type": "code",
   "execution_count": 27,
   "metadata": {},
   "outputs": [
    {
     "data": {
      "text/plain": [
       "Unknown                906\n",
       "2003-10-05 00:00:00      5\n",
       "2001-04-12 00:00:00      5\n",
       "1995-07-28 00:00:00      5\n",
       "1952-07-27 00:00:00      4\n",
       "1970-01-23 00:00:00      4\n",
       "2014-12-28 00:00:00      4\n",
       "2012-06-14 00:00:00      4\n",
       "1994-07-09 00:00:00      4\n",
       "1906-10-10 00:00:00      4\n",
       "2017-04-29 00:00:00      4\n",
       "2008-12-27 00:00:00      4\n",
       "2018-04-15 00:00:00      4\n",
       "2015-09-20 00:00:00      4\n",
       "2010-01-09 00:00:00      4\n",
       "2007-09-30 00:00:00      3\n",
       "2017-07-20 00:00:00      3\n",
       "2011-06-06 00:00:00      3\n",
       "1885-07-26 00:00:00      3\n",
       "2013-07-29 00:00:00      3\n",
       "2015-06-26 00:00:00      3\n",
       "2001-08-18 00:00:00      3\n",
       "2001-08-19 00:00:00      3\n",
       "1966-05-20 00:00:00      3\n",
       "2008-08-30 00:00:00      3\n",
       "2002-09-27 00:00:00      3\n",
       "1999-12-31 00:00:00      3\n",
       "2003-04-20 00:00:00      3\n",
       "2005-11-25 00:00:00      3\n",
       "2003-09-14 00:00:00      3\n",
       "                      ... \n",
       "2007-07-22 00:00:00      1\n",
       "1901-06-24 00:00:00      1\n",
       "1956-07-20 00:00:00      1\n",
       "1984-09-19 00:00:00      1\n",
       "1877-01-04 00:00:00      1\n",
       "2002-08-07 00:00:00      1\n",
       "1946-05-09 00:00:00      1\n",
       "1994-12-30 00:00:00      1\n",
       "1858-01-09 00:00:00      1\n",
       "2003-04-15 00:00:00      1\n",
       "1984-02-11 00:00:00      1\n",
       "2013-08-29 00:00:00      1\n",
       "1990-09-08 00:00:00      1\n",
       "1863-02-05 00:00:00      1\n",
       "1935-03-20 00:00:00      1\n",
       "1936-03-19 00:00:00      1\n",
       "1995-06-13 00:00:00      1\n",
       "1956-10-27 00:00:00      1\n",
       "2010-01-27 00:00:00      1\n",
       "1907-08-08 00:00:00      1\n",
       "1876-06-04 00:00:00      1\n",
       "1951-12-06 00:00:00      1\n",
       "1877-02-17 00:00:00      1\n",
       "2012-06-18 00:00:00      1\n",
       "1987-11-21 00:00:00      1\n",
       "2013-07-30 00:00:00      1\n",
       "1974-08-23 00:00:00      1\n",
       "1962-11-25 00:00:00      1\n",
       "1941-11-24 00:00:00      1\n",
       "1984-07-01 00:00:00      1\n",
       "Name: Date, Length: 4739, dtype: int64"
      ]
     },
     "execution_count": 27,
     "metadata": {},
     "output_type": "execute_result"
    }
   ],
   "source": [
    "df_clean.Date.value_counts()"
   ]
  },
  {
   "cell_type": "code",
   "execution_count": 28,
   "metadata": {},
   "outputs": [
    {
     "data": {
      "text/plain": [
       "Index(['Case Number', 'Date', 'Year', 'Type', 'Country', 'Area', 'Location',\n",
       "       'Activity', 'Name', 'Sex', 'Age', 'Injury', 'Fatal (Y/N)', 'Time',\n",
       "       'Species', 'Investigator or Source', 'pdf', 'href formula', 'href',\n",
       "       'original order'],\n",
       "      dtype='object')"
      ]
     },
     "execution_count": 28,
     "metadata": {},
     "output_type": "execute_result"
    }
   ],
   "source": [
    "df_clean.columns"
   ]
  },
  {
   "cell_type": "code",
   "execution_count": 30,
   "metadata": {},
   "outputs": [
    {
     "data": {
      "text/plain": [
       "M    5613\n",
       "F     689\n",
       "Name: Sex, dtype: int64"
      ]
     },
     "execution_count": 30,
     "metadata": {},
     "output_type": "execute_result"
    }
   ],
   "source": [
    "df_clean.Sex.value_counts()"
   ]
  },
  {
   "cell_type": "code",
   "execution_count": 38,
   "metadata": {},
   "outputs": [
    {
     "data": {
      "text/plain": [
       "USA                         2229\n",
       "Australia                   1338\n",
       "South Africa                 579\n",
       "New Guinea                   145\n",
       "New Zealand                  128\n",
       "Brazil                       112\n",
       "Bahamas                      109\n",
       "Mexico                        89\n",
       "Italy                         72\n",
       "Fiji                          65\n",
       "Philippines                   61\n",
       "Reunion Island                61\n",
       "New Caledonia                 53\n",
       "Unknown                       50\n",
       "Cuba                          46\n",
       "Mozambique                    45\n",
       "Spain                         44\n",
       "India                         40\n",
       "Egypt                         39\n",
       "Japan                         34\n",
       "Croatia                       34\n",
       "Panama                        32\n",
       "Solomon Islands               31\n",
       "Iran                          30\n",
       "Jamaica                       27\n",
       "French Polynesia              25\n",
       "Greece                        25\n",
       "Hong Kong                     24\n",
       "Indonesia                     23\n",
       "England                       23\n",
       "                            ... \n",
       "Argentina                      1\n",
       "Mayotte                        1\n",
       "Northern Arabian Sea           1\n",
       "Peru                           1\n",
       "Cook Islands                   1\n",
       "The Balkans                    1\n",
       "North Sea                      1\n",
       "South China Sea                1\n",
       "Cyprus                         1\n",
       "Monaco                         1\n",
       "Unkown                         1\n",
       "Africa                         1\n",
       "Djibouti                       1\n",
       "Kuwait                         1\n",
       "Equatorial Guinea              1\n",
       "Bahrein                        1\n",
       "Asia                           1\n",
       "Ireland                        1\n",
       "Tuvalu                         1\n",
       "Northern Mariana Islands       1\n",
       "Gulf Of Aden                   1\n",
       "Sweden                         1\n",
       "Curacao                        1\n",
       "Falkland Islands               1\n",
       "Bangladesh                     1\n",
       "Admiralty Islands              1\n",
       "Palestinian Territories        1\n",
       "Puerto Rico                    1\n",
       "Bay Of Bengal                  1\n",
       "Tasman Sea                     1\n",
       "Name: Country, Length: 186, dtype: int64"
      ]
     },
     "execution_count": 38,
     "metadata": {},
     "output_type": "execute_result"
    }
   ],
   "source": [
    "df_clean.Country.value_counts()"
   ]
  },
  {
   "cell_type": "code",
   "execution_count": 32,
   "metadata": {},
   "outputs": [
    {
     "data": {
      "text/plain": [
       "Unknown            1842\n",
       "Leg Injury         1256\n",
       "Foot Injury         869\n",
       "No Injury           792\n",
       "Arm Injury          546\n",
       "Hand Injury         531\n",
       "Minor Injury        248\n",
       "Torso Injury         52\n",
       "Face Injury          42\n",
       "Abdomen Injury       39\n",
       "Head Injury          24\n",
       "Buttocks Injury      22\n",
       "Chest Injury         22\n",
       "Hip Injury           17\n",
       "Name: Injury, dtype: int64"
      ]
     },
     "execution_count": 32,
     "metadata": {},
     "output_type": "execute_result"
    }
   ],
   "source": [
    "df_clean.Injury.value_counts()"
   ]
  },
  {
   "cell_type": "code",
   "execution_count": 33,
   "metadata": {},
   "outputs": [
    {
     "data": {
      "text/plain": [
       "N          4686\n",
       "Y          1535\n",
       "Unknown      81\n",
       "Name: Fatal (Y/N), dtype: int64"
      ]
     },
     "execution_count": 33,
     "metadata": {},
     "output_type": "execute_result"
    }
   ],
   "source": [
    "df_clean['Fatal (Y/N)'].value_counts()"
   ]
  },
  {
   "cell_type": "code",
   "execution_count": 35,
   "metadata": {},
   "outputs": [
    {
     "data": {
      "text/plain": [
       "Unknown                 4403\n",
       "White Shark              626\n",
       "Tiger Shark              282\n",
       "Bull Shark               178\n",
       "Black Tip Shark          109\n",
       "Blue Whale Shark          78\n",
       "Grey Shark                65\n",
       "Nurse Shark               57\n",
       "Blue Shark                55\n",
       "Mako Shark                52\n",
       "Wobbewong Shark           50\n",
       "Hammerhead Shark          48\n",
       "Raggedtooth Shark         43\n",
       "Lemon Shark               34\n",
       "Caribbean Reef Shark      33\n",
       "Zambesi Shark             32\n",
       "Whitetip Shark            26\n",
       "Sand Shark                24\n",
       "Spinner Shark             21\n",
       "Sevengill Shark           14\n",
       "Dusky Shark               13\n",
       "Dog Shark                 10\n",
       "Carpet Shark               8\n",
       "Angel Shark                6\n",
       "Galapagos Shark            6\n",
       "Porbeagle Shark            6\n",
       "Copper Shark               5\n",
       "Thresher Shark             4\n",
       "Silky Shark                4\n",
       "Silvertip Shark            3\n",
       "Shovelnose Shark           3\n",
       "Goblin Shark               2\n",
       "Gummy Shark                1\n",
       "Banjo Shark                1\n",
       "Name: Species, dtype: int64"
      ]
     },
     "execution_count": 35,
     "metadata": {},
     "output_type": "execute_result"
    }
   ],
   "source": [
    "df_clean.Species.value_counts()"
   ]
  },
  {
   "cell_type": "code",
   "execution_count": 36,
   "metadata": {},
   "outputs": [
    {
     "data": {
      "text/plain": [
       "28    3074\n",
       "17     156\n",
       "18     153\n",
       "20     150\n",
       "19     142\n",
       "16     139\n",
       "15     139\n",
       "21     122\n",
       "22     117\n",
       "25     110\n",
       "24     106\n",
       "14     101\n",
       "13      96\n",
       "30      86\n",
       "26      83\n",
       "23      82\n",
       "29      78\n",
       "27      78\n",
       "12      74\n",
       "32      70\n",
       "35      69\n",
       "40      59\n",
       "10      57\n",
       "31      53\n",
       "34      51\n",
       "38      48\n",
       "33      47\n",
       "36      45\n",
       "43      44\n",
       "37      43\n",
       "      ... \n",
       "51      20\n",
       "60      18\n",
       "54      17\n",
       "57      16\n",
       "58      15\n",
       "61      13\n",
       "53      13\n",
       "59      11\n",
       "69      10\n",
       "56      10\n",
       "63       9\n",
       "62       8\n",
       "68       7\n",
       "70       6\n",
       "65       5\n",
       "64       4\n",
       "66       4\n",
       "71       3\n",
       "73       3\n",
       "77       3\n",
       "78       2\n",
       "74       2\n",
       "75       2\n",
       "67       1\n",
       "82       1\n",
       "72       1\n",
       "84       1\n",
       "81       1\n",
       "86       1\n",
       "87       1\n",
       "Name: Age, Length: 73, dtype: int64"
      ]
     },
     "execution_count": 36,
     "metadata": {},
     "output_type": "execute_result"
    }
   ],
   "source": [
    "df_clean.Age.value_counts()"
   ]
  },
  {
   "cell_type": "code",
   "execution_count": null,
   "metadata": {},
   "outputs": [],
   "source": []
  }
 ],
 "metadata": {
  "kernelspec": {
   "display_name": "Python 3",
   "language": "python",
   "name": "python3"
  },
  "language_info": {
   "codemirror_mode": {
    "name": "ipython",
    "version": 3
   },
   "file_extension": ".py",
   "mimetype": "text/x-python",
   "name": "python",
   "nbconvert_exporter": "python",
   "pygments_lexer": "ipython3",
   "version": "3.7.3"
  }
 },
 "nbformat": 4,
 "nbformat_minor": 2
}
